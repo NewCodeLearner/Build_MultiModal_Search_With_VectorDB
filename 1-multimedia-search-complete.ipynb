{
 "cells": [
  {
   "cell_type": "markdown",
   "metadata": {},
   "source": [
    "## Building MultiModal Search with Vector Databases"
   ]
  },
  {
   "cell_type": "markdown",
   "metadata": {},
   "source": [
    "This notebook demonstrates how build multi-modal search (image, audio, video) Meta AI ImageBind model (multi2vec-bind).\n",
    "\n",
    "ImageBind allows us to search through text, images, audio and video files.\n",
    "\n",
    "This recipe will focus on searching through image, audio and video:\n",
    "\n",
    "text-to-media search - provide text as input to search through media\n",
    "image-to-media search - provide image as input to search through media\n",
    "audio-to-media search - provide audio as input to search through media\n",
    "video-to-media search - provide video as input to search through media"
   ]
  },
  {
   "cell_type": "markdown",
   "metadata": {},
   "source": [
    "## Dependencies"
   ]
  },
  {
   "cell_type": "code",
   "execution_count": 2,
   "metadata": {},
   "outputs": [
    {
     "name": "stdout",
     "output_type": "stream",
     "text": [
      "Collecting weaviate-client==4.4.1\n",
      "  Using cached weaviate_client-4.4.1-py3-none-any.whl (292 kB)\n",
      "Collecting grpcio-health-checking<2.0.0,>=1.57.0\n",
      "  Using cached grpcio_health_checking-1.70.0-py3-none-any.whl (18 kB)\n",
      "Collecting requests<3.0.0,>=2.30.0\n",
      "  Using cached requests-2.32.3-py3-none-any.whl (64 kB)\n",
      "Collecting pydantic<3.0.0,>=2.5.0\n",
      "  Using cached pydantic-2.10.6-py3-none-any.whl (431 kB)\n",
      "Collecting authlib<2.0.0,>=1.2.1\n",
      "  Using cached Authlib-1.4.0-py2.py3-none-any.whl (225 kB)\n",
      "Collecting validators==0.22.0\n",
      "  Using cached validators-0.22.0-py3-none-any.whl (26 kB)\n",
      "Collecting grpcio<2.0.0,>=1.57.0\n",
      "  Using cached grpcio-1.70.0-cp39-cp39-win_amd64.whl (4.3 MB)\n",
      "Collecting httpx==0.26.0\n",
      "  Using cached httpx-0.26.0-py3-none-any.whl (75 kB)\n",
      "Collecting grpcio-tools<2.0.0,>=1.57.0\n",
      "  Using cached grpcio_tools-1.70.0-cp39-cp39-win_amd64.whl (1.1 MB)\n",
      "Collecting protobuf<6.0dev,>=5.26.1\n",
      "  Using cached protobuf-5.29.3-cp39-cp39-win_amd64.whl (434 kB)\n",
      "Collecting charset-normalizer<4,>=2\n",
      "  Using cached charset_normalizer-3.4.1-cp39-cp39-win_amd64.whl (102 kB)\n",
      "Collecting certifi>=2017.4.17\n",
      "  Using cached certifi-2024.12.14-py3-none-any.whl (164 kB)\n",
      "Collecting urllib3<3,>=1.21.1\n",
      "  Using cached urllib3-2.3.0-py3-none-any.whl (128 kB)\n",
      "Collecting idna<4,>=2.5\n",
      "  Using cached idna-3.10-py3-none-any.whl (70 kB)\n",
      "Collecting pydantic-core==2.27.2\n",
      "  Using cached pydantic_core-2.27.2-cp39-cp39-win_amd64.whl (2.0 MB)\n",
      "Collecting typing-extensions>=4.12.2\n",
      "  Using cached typing_extensions-4.12.2-py3-none-any.whl (37 kB)\n",
      "Collecting annotated-types>=0.6.0\n",
      "  Using cached annotated_types-0.7.0-py3-none-any.whl (13 kB)\n",
      "Collecting cryptography\n",
      "  Using cached cryptography-43.0.3-cp39-abi3-win_amd64.whl (3.1 MB)\n",
      "Collecting httpcore==1.*\n",
      "  Using cached httpcore-1.0.7-py3-none-any.whl (78 kB)\n",
      "Collecting anyio\n",
      "  Using cached anyio-4.8.0-py3-none-any.whl (96 kB)\n",
      "Collecting sniffio\n",
      "  Using cached sniffio-1.3.1-py3-none-any.whl (10 kB)\n",
      "Collecting setuptools\n",
      "  Using cached setuptools-75.8.0-py3-none-any.whl (1.2 MB)\n",
      "Collecting cffi>=1.12; platform_python_implementation != \"PyPy\"\n",
      "  Using cached cffi-1.17.1-cp39-cp39-win_amd64.whl (181 kB)\n",
      "Collecting h11<0.15,>=0.13\n",
      "  Using cached h11-0.14.0-py3-none-any.whl (58 kB)\n",
      "Collecting exceptiongroup>=1.0.2; python_version < \"3.11\"\n",
      "  Using cached exceptiongroup-1.2.2-py3-none-any.whl (16 kB)\n",
      "Collecting pycparser\n",
      "  Using cached pycparser-2.22-py3-none-any.whl (117 kB)\n",
      "Installing collected packages: grpcio, protobuf, grpcio-health-checking, charset-normalizer, certifi, urllib3, idna, requests, typing-extensions, pydantic-core, annotated-types, pydantic, pycparser, cffi, cryptography, authlib, validators, h11, httpcore, sniffio, exceptiongroup, anyio, httpx, setuptools, grpcio-tools, weaviate-client\n"
     ]
    },
    {
     "name": "stderr",
     "output_type": "stream",
     "text": [
      "ERROR: Could not install packages due to an EnvironmentError: [WinError 5] Access is denied: 'c:\\\\users\\\\girish\\\\onedrive\\\\documents\\\\onedrive\\\\coding\\\\build_multimodal_search_with_vectordb\\\\.venv\\\\Lib\\\\site-packages\\\\grpc\\\\_cython\\\\cygrpc.cp39-win_amd64.pyd'\n",
      "Consider using the `--user` option or check the permissions.\n",
      "\n",
      "WARNING: You are using pip version 20.2.3; however, version 25.0 is available.\n",
      "You should consider upgrading via the 'c:\\users\\girish\\onedrive\\documents\\onedrive\\coding\\build_multimodal_search_with_vectordb\\.venv\\scripts\\python.exe -m pip install --upgrade pip' command.\n"
     ]
    }
   ],
   "source": [
    "! pip install --pre -I \"weaviate-client==4.4.1\""
   ]
  },
  {
   "cell_type": "markdown",
   "metadata": {},
   "source": [
    "## Connect to Weaviate"
   ]
  },
  {
   "cell_type": "code",
   "execution_count": null,
   "metadata": {},
   "outputs": [],
   "source": [
    "import weaviate, os\n",
    "\n",
    "client = weaviate.connect_to_local()\n",
    "\n",
    "client.is_ready()"
   ]
  },
  {
   "cell_type": "code",
   "execution_count": null,
   "metadata": {},
   "outputs": [],
   "source": [
    "client.get_meta()"
   ]
  },
  {
   "cell_type": "markdown",
   "metadata": {},
   "source": [
    "Create the Animals Collection"
   ]
  },
  {
   "cell_type": "code",
   "execution_count": null,
   "metadata": {},
   "outputs": [],
   "source": [
    "import weaviate.classes as wvc\n",
    "\n",
    "if(client.collections.exists(\"Animals\")):\n",
    "    client.collections.delete(\"Animals\")\n",
    "\n",
    "client.collections.create(\n",
    "    name=\"Animals\",\n",
    "    vectorizer_config=wvc.config.Configure.Vectorizer.multi2vec_bind(\n",
    "        audio_fields=[\"audio\"],\n",
    "        image_fields=[\"image\"],\n",
    "        video_fields=[\"video\"],\n",
    "    )\n",
    ")"
   ]
  },
  {
   "cell_type": "code",
   "execution_count": null,
   "metadata": {},
   "outputs": [],
   "source": [
    "import base64\n",
    "\n",
    "# Helper function to convert a file to base64 representation\n",
    "def toBase64(path):\n",
    "    with open(path, 'rb') as file:\n",
    "        return base64.b64encode(file.read()).decode('utf-8')"
   ]
  }
 ],
 "metadata": {
  "kernelspec": {
   "display_name": ".venv",
   "language": "python",
   "name": "python3"
  },
  "language_info": {
   "codemirror_mode": {
    "name": "ipython",
    "version": 3
   },
   "file_extension": ".py",
   "mimetype": "text/x-python",
   "name": "python",
   "nbconvert_exporter": "python",
   "pygments_lexer": "ipython3",
   "version": "3.9.0"
  }
 },
 "nbformat": 4,
 "nbformat_minor": 2
}
