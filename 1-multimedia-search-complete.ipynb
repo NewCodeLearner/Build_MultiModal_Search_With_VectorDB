{
 "cells": [
  {
   "cell_type": "markdown",
   "metadata": {},
   "source": [
    "## Building MultiModal Search with Vector Databases"
   ]
  },
  {
   "cell_type": "markdown",
   "metadata": {},
   "source": [
    "This notebook demonstrates how build multi-modal search (image, audio, video) Meta AI ImageBind model (multi2vec-bind).\n",
    "\n",
    "ImageBind allows us to search through text, images, audio and video files.\n",
    "\n",
    "This recipe will focus on searching through image, audio and video:\n",
    "\n",
    "text-to-media search - provide text as input to search through media\n",
    "image-to-media search - provide image as input to search through media\n",
    "audio-to-media search - provide audio as input to search through media\n",
    "video-to-media search - provide video as input to search through media"
   ]
  }
 ],
 "metadata": {
  "language_info": {
   "name": "python"
  }
 },
 "nbformat": 4,
 "nbformat_minor": 2
}
